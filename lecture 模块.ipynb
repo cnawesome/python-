{
 "cells": [
  {
   "cell_type": "markdown",
   "metadata": {},
   "source": [
    "#### 模块"
   ]
  },
  {
   "cell_type": "markdown",
   "metadata": {},
   "source": [
    "该内容学完后，我们可以自己制作一个模块。像我们之前学习时使用下面的语句\n",
    "import math\n",
    "一样，import 我们自己命名的模块"
   ]
  },
  {
   "cell_type": "code",
   "execution_count": 1,
   "metadata": {},
   "outputs": [
    {
     "name": "stdout",
     "output_type": "stream",
     "text": [
      "['D:\\\\work\\\\file\\\\python-ml', 'D:\\\\work\\\\anaconda\\\\python37.zip', 'D:\\\\work\\\\anaconda\\\\DLLs', 'D:\\\\work\\\\anaconda\\\\lib', 'D:\\\\work\\\\anaconda', '', 'D:\\\\work\\\\anaconda\\\\lib\\\\site-packages', 'D:\\\\work\\\\anaconda\\\\lib\\\\site-packages\\\\win32', 'D:\\\\work\\\\anaconda\\\\lib\\\\site-packages\\\\win32\\\\lib', 'D:\\\\work\\\\anaconda\\\\lib\\\\site-packages\\\\Pythonwin', 'D:\\\\work\\\\anaconda\\\\lib\\\\site-packages\\\\IPython\\\\extensions', 'C:\\\\Users\\\\admin\\\\.ipython']\n"
     ]
    }
   ],
   "source": [
    "import sys\n",
    "print(sys.path)"
   ]
  },
  {
   "cell_type": "code",
   "execution_count": 4,
   "metadata": {},
   "outputs": [
    {
     "name": "stdout",
     "output_type": "stream",
     "text": [
      "__main__\n"
     ]
    }
   ],
   "source": [
    "#python提供了一个__name__属性，每个模块都有一个__name__属性，当其值为‘__main__’时，表明该模块自身在运行，否则是被引用。\n",
    "print(__name__)"
   ]
  },
  {
   "cell_type": "code",
   "execution_count": 6,
   "metadata": {},
   "outputs": [
    {
     "name": "stdout",
     "output_type": "stream",
     "text": [
      "int test.py file,__name__is __main__\n"
     ]
    }
   ],
   "source": [
    "if __name__=='__main__':\n",
    "    print('int test.py file,__name__is %s'%__name__)\n"
   ]
  },
  {
   "cell_type": "markdown",
   "metadata": {},
   "source": [
    "#### 包\n",
    "包(package)是多个模块的聚合体形成的文件夹，里面可以是多个py文件，也可以嵌套文件夹\n",
    "包是python模块文件所在的目录，且该目录下必须存在__init__.py文件（文件内容可以为空）。"
   ]
  },
  {
   "cell_type": "markdown",
   "metadata": {},
   "source": [
    "如果package_a中的modulea1需要引用package_b，那么默认情况下，Python是找不到package_b的。\n",
    "可以在package_a中的__init__.py中添加“sys.path.append('../')”\n",
    "将该包下的所有module都添加 import __init_即可。"
   ]
  },
  {
   "cell_type": "markdown",
   "metadata": {},
   "source": [
    "模块的发布\n",
    "\n",
    "将要发布的模块放在setup.py包中\n",
    "编辑setup.py文件\n",
    "from distutils.core import setup\n",
    "setup(\n",
    "     name=\"itheima\",\n",
    "        version=\"1.0\",\n",
    "        description=\"itheima belongs to itcast\",\n",
    "     author=\"itcast\", \n",
    "     py_modules=[‘suba.aa’, ‘suba.bb’, ‘subb.cc’, ‘subb.dd’] )\n",
    "\n",
    "\n",
    "#构建模块命令\n",
    "python setup.py build\n",
    "#生成发布压缩包\n",
    "python setup.py sdist"
   ]
  },
  {
   "cell_type": "code",
   "execution_count": null,
   "metadata": {},
   "outputs": [],
   "source": [
    "模块的安装\n",
    "\n",
    "#执行安装模块命令\n",
    "python setup.py install"
   ]
  }
 ],
 "metadata": {
  "kernelspec": {
   "display_name": "Python 3",
   "language": "python",
   "name": "python3"
  },
  "language_info": {
   "codemirror_mode": {
    "name": "ipython",
    "version": 3
   },
   "file_extension": ".py",
   "mimetype": "text/x-python",
   "name": "python",
   "nbconvert_exporter": "python",
   "pygments_lexer": "ipython3",
   "version": "3.7.6"
  }
 },
 "nbformat": 4,
 "nbformat_minor": 4
}
