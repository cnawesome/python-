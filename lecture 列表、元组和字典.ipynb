{
 "cells": [
  {
   "cell_type": "markdown",
   "metadata": {},
   "source": [
    "### Lecture 5"
   ]
  },
  {
   "cell_type": "code",
   "execution_count": 3,
   "metadata": {
    "scrolled": true
   },
   "outputs": [
    {
     "name": "stdout",
     "output_type": "stream",
     "text": [
      "[1, 2, 3, 4, 5, 1, 2, 3, 4, 5, 6]\n"
     ]
    }
   ],
   "source": [
    "list1 = [1,2,3,4,5]\n",
    "list2 = [1,2,3,4,5,6]\n",
    "#list1.append(0)\n",
    "#将list2的元素添加到list1\n",
    "list1.extend(list2)\n",
    "print(list1)"
   ]
  },
  {
   "cell_type": "code",
   "execution_count": 2,
   "metadata": {},
   "outputs": [
    {
     "name": "stdout",
     "output_type": "stream",
     "text": [
      "[2, 3, 4, 5, 1, 2, 3, 4, 5, 6]\n"
     ]
    }
   ],
   "source": [
    "#删除元素\n",
    "#remove只会删除第一个对应的元素\n",
    "list1.remove(1)\n",
    "print(list1)"
   ]
  },
  {
   "cell_type": "code",
   "execution_count": 6,
   "metadata": {},
   "outputs": [
    {
     "name": "stdout",
     "output_type": "stream",
     "text": [
      "('physics', 'chemistry', 1997, 2000) (1, 2, 3, 4, 5) ('a', 'b')\n"
     ]
    }
   ],
   "source": [
    "tup1 = ('physics', 'chemistry', 1997, 2000)\n",
    "tup2 = (1, 2, 3, 4, 5 )\n",
    "#简化写法\n",
    "tup3 = 'a', 'b'\n",
    "\n",
    "print(tup1, tup2, tup3)"
   ]
  },
  {
   "cell_type": "code",
   "execution_count": 12,
   "metadata": {},
   "outputs": [
    {
     "name": "stdout",
     "output_type": "stream",
     "text": [
      "Name: miki\n",
      "Age: 9\n",
      "Name: hanmeimei\n",
      "Age: 16\n"
     ]
    }
   ],
   "source": [
    "#参数\n",
    "def printinfo( name, age):\n",
    "    print(\"Name:\", name)\n",
    "    print(\"Age:\", age)\n",
    "#指定参数赋值\n",
    "printinfo(name=\"miki\",age=9)\n",
    "printinfo('hanmeimei', 16)"
   ]
  },
  {
   "cell_type": "code",
   "execution_count": 10,
   "metadata": {},
   "outputs": [
    {
     "name": "stdout",
     "output_type": "stream",
     "text": [
      "11\n",
      "22\n",
      "()\n",
      "11\n",
      "22\n",
      "(33, 44, 55, 66, 77, 88, 99)\n"
     ]
    }
   ],
   "source": [
    "#星号参数\n",
    "def test(a,b,*args):\n",
    "     print(a)\n",
    "     print(b)\n",
    "     print(args)\n",
    "test(11,22)\n",
    "test(11,22,33,44,55,66,77,88,99)"
   ]
  },
  {
   "cell_type": "code",
   "execution_count": null,
   "metadata": {},
   "outputs": [],
   "source": []
  }
 ],
 "metadata": {
  "kernelspec": {
   "display_name": "Python 3",
   "language": "python",
   "name": "python3"
  },
  "language_info": {
   "codemirror_mode": {
    "name": "ipython",
    "version": 3
   },
   "file_extension": ".py",
   "mimetype": "text/x-python",
   "name": "python",
   "nbconvert_exporter": "python",
   "pygments_lexer": "ipython3",
   "version": "3.7.6"
  }
 },
 "nbformat": 4,
 "nbformat_minor": 4
}
