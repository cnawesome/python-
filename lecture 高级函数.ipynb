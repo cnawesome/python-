{
 "cells": [
  {
   "cell_type": "code",
   "execution_count": null,
   "metadata": {},
   "outputs": [],
   "source": []
  },
  {
   "cell_type": "markdown",
   "metadata": {},
   "source": [
    "#### 闭包\n",
    "\n",
    "为什么使用闭包？\n",
    "我们想使用外部函数的局部变量\n",
    "1.外部函数通过return返回该局部变量\n",
    "2.（闭包）通过在外部函数中定义一个内部函数，通过内部函数来访问外部函数的局部变量\n",
    "（因为内部函数与外部函数的变量在一个作用域下，可以访问）\n",
    "\n",
    "具体操作为，定义内部函数，在外部函数函数体内return内部函数名，通过返回的内部函数来访问外部函数的局部变量"
   ]
  },
  {
   "cell_type": "code",
   "execution_count": null,
   "metadata": {},
   "outputs": [],
   "source": [
    "def f1():\n",
    "    n=999\n",
    "    def f2():\n",
    "        print(n)\n",
    "    \n",
    "    return f2\n",
    "\n",
    "result = f1()\n",
    "result()"
   ]
  },
  {
   "cell_type": "markdown",
   "metadata": {},
   "source": [
    "维基百科：在一些语言中，在函数中可以（嵌套）定义另一个函数时，如果内部的函数引用了外部的函数的变量，则可能产生闭包。\n",
    "闭包可以用来在一个函数与一组“私有”变量之间创建关联关系。在给定函数被多次调用的过程中，这些私有变量能够保持其持久性"
   ]
  },
  {
   "cell_type": "markdown",
   "metadata": {},
   "source": [
    "维基百科的定义中已经提到的它的两个用处：① 可以读取函数内部的变量，②让这些变量的值始终保持在内存中。"
   ]
  },
  {
   "cell_type": "code",
   "execution_count": 3,
   "metadata": {},
   "outputs": [
    {
     "name": "stdout",
     "output_type": "stream",
     "text": [
      "<a>Hello</a>\n"
     ]
    }
   ],
   "source": [
    "#这里的外部函数局部变量用参数形式保存\n",
    "def tag(tag_name):\n",
    "    def add_tag(content):\n",
    "        return \"<{0}>{1}</{0}>\".format(tag_name, content)\n",
    "    return add_tag\n",
    "    \n",
    "content = 'Hello'\n",
    "\n",
    "add_tag = tag('a')\n",
    "print (add_tag(content))"
   ]
  },
  {
   "cell_type": "markdown",
   "metadata": {},
   "source": [
    "在这个例子里，我们想要一个给content加tag的功能，但是具体的tag_name是什么样子的要根据实际需求来定，\n",
    "对外部调用的接口已经确定，就是add_tag(content)。\n",
    "如果按照面向接口方式实现，我们会先把add_tag写成接口，指定其参数和返回类型，然后分别去实现a和b的add_tag。\n",
    "但是在闭包的概念中，add_tag就是一个函数，它需要tag_name和content两个参数，只不过tag_name这个参数是打包带走的。\n",
    "所以一开始时就可以告诉我怎么打包，然后带走就行。"
   ]
  },
  {
   "cell_type": "markdown",
   "metadata": {},
   "source": [
    "一般来说，函数内部的局部变量在这个函数运行完以后，就会被Python的垃圾回收机制从内存中清除掉。\n",
    "如果我们希望这个局部变量能够长久的保存在内存中，那么就可以用闭包来实现这个功能"
   ]
  },
  {
   "cell_type": "code",
   "execution_count": null,
   "metadata": {},
   "outputs": [],
   "source": [
    "def create(pos=[0,0]):\n",
    "    \n",
    "    def go(direction, step):\n",
    "        new_x = pos[0]+direction[0]*step\n",
    "        new_y = pos[1]+direction[1]*step\n",
    "        \n",
    "        pos[0] = new_x\n",
    "        pos[1] = new_y\n",
    "        \n",
    "        return pos\n",
    "    \n",
    "    \n",
    "    return go\n",
    "\n",
    "player = create()\n",
    "print(player([1,0],10))\n",
    "print(player([0,1],20))\n",
    "print(player([-1,0],10))"
   ]
  },
  {
   "cell_type": "markdown",
   "metadata": {},
   "source": [
    "在这段代码中，player实际上就是闭包go函数的一个实例对象。\n",
    "它一共运行了三次，第一次是沿X轴前进了10来到[10,0]，第二次是沿Y轴前进了20来到 [10, 20],，第三次是反方向沿X轴退了10来到[0, 20]。\n",
    "这证明了，函数create中的局部变量pos一直保存在内存中，并没有在create调用后被自动清除。\n",
    "为什么会这样呢？原因就在于create是go的父函数，而go被赋给了一个全局变量，这导致go始终在内存中，而go的存在依赖于create，\n",
    "因此create也始终在内存中，不会在调用结束后，被垃圾回收机制（garbage collection）回收。\n",
    "这个时候，闭包使得函数的实例对象的内部变量，变得很像一个类的实例对象的属性，可以一直保存在内存中，并不断的对其进行运算。"
   ]
  },
  {
   "cell_type": "markdown",
   "metadata": {},
   "source": [
    "#### 装饰器"
   ]
  },
  {
   "cell_type": "markdown",
   "metadata": {},
   "source": [
    "装饰器的本质是将被装饰函数作为参数传入一个闭包函数内"
   ]
  },
  {
   "cell_type": "code",
   "execution_count": 6,
   "metadata": {},
   "outputs": [
    {
     "name": "stdout",
     "output_type": "stream",
     "text": [
      "正在执行内部函数\n",
      "--------欢迎您-------\n"
     ]
    }
   ],
   "source": [
    "def myDectoration(func):\n",
    "    def inner():\n",
    "        print(\"正在执行内部函数\")\n",
    "        return func()\n",
    "    return inner\n",
    "\n",
    "def printMessage():\n",
    "    print(\"--------欢迎您-------\")\n",
    "pm = myDectoration(printMessage)\n",
    "pm()\n"
   ]
  },
  {
   "cell_type": "code",
   "execution_count": 7,
   "metadata": {},
   "outputs": [
    {
     "name": "stdout",
     "output_type": "stream",
     "text": [
      "正在执行内部函数\n",
      "--------欢迎您-------\n"
     ]
    }
   ],
   "source": [
    "def myDectoration(func):\n",
    "    def inner():\n",
    "        print(\"正在执行内部函数\")\n",
    "        return func()\n",
    "    return inner\n",
    "#程序会自动编译生成调用装饰器函数的代码,等价于：printMessage = myDectoration(printMessage)\n",
    "@myDectoration\n",
    "def printMessage():\n",
    "    print(\"--------欢迎您-------\")\n",
    "printMessage()"
   ]
  },
  {
   "cell_type": "code",
   "execution_count": null,
   "metadata": {},
   "outputs": [],
   "source": [
    "#装饰有参数的函数\n",
    "def w1(func):\n",
    "    def inner(a,b): \n",
    "        print('开始验证权限')\n",
    "        func(a,b)\n",
    "    return inner\n",
    "@w1\n",
    "def test(a,b): \n",
    "    print('a=%d,b=%d'%(a,b))\n",
    "test(1,2)\n"
   ]
  },
  {
   "cell_type": "code",
   "execution_count": 8,
   "metadata": {},
   "outputs": [
    {
     "data": {
      "text/plain": [
       "'itheima'"
      ]
     },
     "execution_count": 8,
     "metadata": {},
     "output_type": "execute_result"
    }
   ],
   "source": [
    "def func(functionName):\n",
    "    def func_in():\n",
    "       return functionName()\n",
    "    return func_in\n",
    "@func\n",
    "def test():\n",
    "    return 'itheima'\n",
    "test()"
   ]
  },
  {
   "cell_type": "markdown",
   "metadata": {},
   "source": [
    "python的内置函数"
   ]
  },
  {
   "cell_type": "code",
   "execution_count": 9,
   "metadata": {},
   "outputs": [
    {
     "name": "stdout",
     "output_type": "stream",
     "text": [
      "[3, 4, 5, 6, 7]\n"
     ]
    }
   ],
   "source": [
    "func = lambda x:x+2\n",
    "result = map(func, [1,2,3,4,5])\n",
    "print(list(result))\n"
   ]
  },
  {
   "cell_type": "code",
   "execution_count": null,
   "metadata": {},
   "outputs": [],
   "source": [
    "#filter函数会对指定序列执行过滤操作。\n",
    "unc = lambda x:x%2\n",
    "result = filter(func, [1, 2, 3, 4, 5])\n",
    "print(list(result))\n"
   ]
  }
 ],
 "metadata": {
  "kernelspec": {
   "display_name": "Python 3",
   "language": "python",
   "name": "python3"
  },
  "language_info": {
   "codemirror_mode": {
    "name": "ipython",
    "version": 3
   },
   "file_extension": ".py",
   "mimetype": "text/x-python",
   "name": "python",
   "nbconvert_exporter": "python",
   "pygments_lexer": "ipython3",
   "version": "3.7.6"
  }
 },
 "nbformat": 4,
 "nbformat_minor": 4
}
