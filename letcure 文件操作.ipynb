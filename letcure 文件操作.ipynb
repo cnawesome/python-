{
 "cells": [
  {
   "cell_type": "markdown",
   "metadata": {},
   "source": [
    "#### 文件操作"
   ]
  },
  {
   "cell_type": "markdown",
   "metadata": {},
   "source": [
    "python中，使用open方法打开文件\\\n",
    "open(文件名，访问模式)\\\n",
    "open(file, mode='r', buffering=-1, encoding=None, errors=None, newline=None, closefd=True, opener=None)"
   ]
  },
  {
   "cell_type": "code",
   "execution_count": null,
   "metadata": {},
   "outputs": [],
   "source": []
  },
  {
   "cell_type": "code",
   "execution_count": 1,
   "metadata": {},
   "outputs": [
    {
     "name": "stdout",
     "output_type": "stream",
     "text": [
      "['_CHUNK_SIZE', '__class__', '__del__', '__delattr__', '__dict__', '__dir__', '__doc__', '__enter__', '__eq__', '__exit__', '__format__', '__ge__', '__getattribute__', '__getstate__', '__gt__', '__hash__', '__init__', '__init_subclass__', '__iter__', '__le__', '__lt__', '__ne__', '__new__', '__next__', '__reduce__', '__reduce_ex__', '__repr__', '__setattr__', '__sizeof__', '__str__', '__subclasshook__', '_checkClosed', '_checkReadable', '_checkSeekable', '_checkWritable', '_finalizing', 'buffer', 'close', 'closed', 'detach', 'encoding', 'errors', 'fileno', 'flush', 'isatty', 'line_buffering', 'mode', 'name', 'newlines', 'read', 'readable', 'readline', 'readlines', 'reconfigure', 'seek', 'seekable', 'tell', 'truncate', 'writable', 'write', 'write_through', 'writelines']\n"
     ]
    }
   ],
   "source": [
    "f = open('new.txt', 'w')\n",
    "f.close()\n",
    "print(dir(f))"
   ]
  },
  {
   "cell_type": "markdown",
   "metadata": {},
   "source": [
    "凡是打开的文件，切记要使用close方法关闭文件。"
   ]
  },
  {
   "cell_type": "code",
   "execution_count": 3,
   "metadata": {},
   "outputs": [],
   "source": [
    "#写文件\n",
    "f = open('new.txt', 'w')\n",
    "f.write('hello itheima, i am here!')\n",
    "f.close()\n"
   ]
  },
  {
   "cell_type": "code",
   "execution_count": 7,
   "metadata": {},
   "outputs": [
    {
     "ename": "SyntaxError",
     "evalue": "invalid syntax (<ipython-input-7-fd94a6698f2d>, line 3)",
     "output_type": "error",
     "traceback": [
      "\u001b[1;36m  File \u001b[1;32m\"<ipython-input-7-fd94a6698f2d>\"\u001b[1;36m, line \u001b[1;32m3\u001b[0m\n\u001b[1;33m    content = f.read(12))#从文件指针所在的位置开始读12个字节\u001b[0m\n\u001b[1;37m                        ^\u001b[0m\n\u001b[1;31mSyntaxError\u001b[0m\u001b[1;31m:\u001b[0m invalid syntax\n"
     ]
    }
   ],
   "source": [
    "#读文件\n",
    "f = open('itheima.txt', 'r')\n",
    "content = f.read(12))#从文件指针所在的位置开始读12个字节\n",
    "print(content)\n",
    "print(\"-\"*30)\n",
    "content = f.read()#从文件指针所在的位置读到文件结尾\n",
    "print(content)\n",
    "f.close()"
   ]
  },
  {
   "cell_type": "code",
   "execution_count": 5,
   "metadata": {},
   "outputs": [
    {
     "name": "stdout",
     "output_type": "stream",
     "text": [
      "1:he\n",
      "2:llo itheima, i am here!\n"
     ]
    }
   ],
   "source": [
    "\n",
    "#readline读取一行，添加参数数字指定读取个字符个数\n",
    "f = open('new.txt', 'r')\n",
    "content = f.readline()\n",
    "print(\"1:%s\"%content)\n",
    "content = f.readline()\n",
    "print(\"2:%s\"%content)\n",
    "f.close()\n"
   ]
  },
  {
   "cell_type": "code",
   "execution_count": 6,
   "metadata": {},
   "outputs": [
    {
     "name": "stdout",
     "output_type": "stream",
     "text": [
      "newtxt:['hello itheima, i am here!']\n"
     ]
    }
   ],
   "source": [
    "#readlines()将文件读取到列表中\n",
    "#通过提供参数，说明读取某些行\n",
    "f = open('new.txt', 'r')\n",
    "content = f.readlines()\n",
    "print(\"newtxt:%s\"%content)\n"
   ]
  },
  {
   "cell_type": "code",
   "execution_count": 11,
   "metadata": {},
   "outputs": [
    {
     "name": "stdout",
     "output_type": "stream",
     "text": [
      "读取的数据是 :  hell\n",
      "当前文件位置 :  4\n"
     ]
    }
   ],
   "source": [
    "#使用tell方法来获取文件当前的读写位置\n",
    "f = open(\"new.txt\", \"r\")\n",
    "str = f.read(4)\n",
    "print(\"读取的数据是 : \",str)\n",
    "position = f.tell()\n",
    "print(\"当前文件位置 : \",position)"
   ]
  },
  {
   "cell_type": "code",
   "execution_count": 15,
   "metadata": {},
   "outputs": [
    {
     "name": "stdout",
     "output_type": "stream",
     "text": [
      "读取的数据是 :  b'hell'\n",
      "当前文件位置 :  4\n",
      "当前文件位置 :  4\n"
     ]
    },
    {
     "data": {
      "text/plain": [
       "b'heima, i am here!'"
      ]
     },
     "execution_count": 15,
     "metadata": {},
     "output_type": "execute_result"
    }
   ],
   "source": [
    "#使用seek方法来移动文件读取指针到指定位置\n",
    "#seek(offset, from)方法包含两个参数：\n",
    "#offset:表示偏移量，也就是代表需要移动偏移的字节数\n",
    "#from:表示方向，可以指定从哪个位置开始偏移\n",
    "#0:表示文件开头（默认值）\n",
    "#1:表示当前位置\n",
    "#2:表示文件末尾\n",
    "f = open(\"new.txt\", \"rb\")\n",
    "str = f.read(4)\n",
    "print(\"读取的数据是 : \",str)\n",
    "position = f.tell()\n",
    "print(\"当前文件位置 : \",position)\n",
    "f.seek(4,1)\n",
    "print(\"当前文件位置 : \",position)\n",
    "f.read()"
   ]
  },
  {
   "cell_type": "markdown",
   "metadata": {},
   "source": [
    "文件的重命名\n",
    "os模块中的rename()方法可以完成文件的重命名"
   ]
  },
  {
   "cell_type": "code",
   "execution_count": null,
   "metadata": {},
   "outputs": [],
   "source": [
    "#os.rename(需要修改的文件名, 新的文件名)\n",
    "os.rename(f, nf)"
   ]
  },
  {
   "cell_type": "markdown",
   "metadata": {},
   "source": [
    "os模块中的remove()方法可以完成文件的删除操作。\\\n",
    "os.remove(待删除的文件名)"
   ]
  },
  {
   "cell_type": "code",
   "execution_count": 17,
   "metadata": {},
   "outputs": [
    {
     "data": {
      "text/plain": [
       "'D:\\\\work\\\\file\\\\python-ml'"
      ]
     },
     "execution_count": 17,
     "metadata": {},
     "output_type": "execute_result"
    }
   ],
   "source": [
    "#os模块的mkdir方法用来创建文件夹\n",
    "import os\n",
    "os.mkdir(\"package\")\n",
    "\n",
    "#os模块的getcwd方法用来获取当前的目录\n",
    "os.getcwd()\n",
    "\n",
    "#os模块的chdir方法用来改变默认目录\n",
    "os.chdir(\"../”)\n",
    "         \n",
    "#os模块的listdir方法用于获取目录列表\n",
    "os.listdir (\"./\")\n",
    "         \n",
    "#os模块的rmdir方法用于删除文件夹\n",
    "os.rmdir (\"package\")     "
   ]
  },
  {
   "cell_type": "code",
   "execution_count": null,
   "metadata": {},
   "outputs": [],
   "source": []
  }
 ],
 "metadata": {
  "kernelspec": {
   "display_name": "Python 3",
   "language": "python",
   "name": "python3"
  },
  "language_info": {
   "codemirror_mode": {
    "name": "ipython",
    "version": 3
   },
   "file_extension": ".py",
   "mimetype": "text/x-python",
   "name": "python",
   "nbconvert_exporter": "python",
   "pygments_lexer": "ipython3",
   "version": "3.7.6"
  }
 },
 "nbformat": 4,
 "nbformat_minor": 4
}
